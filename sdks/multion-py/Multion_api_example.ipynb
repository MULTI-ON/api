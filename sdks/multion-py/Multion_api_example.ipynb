{
 "cells": [
  {
   "cell_type": "code",
   "execution_count": 1,
   "metadata": {},
   "outputs": [],
   "source": [
    "# !pip install --upgrade multion -q"
   ]
  },
  {
   "cell_type": "code",
   "execution_count": null,
   "metadata": {},
   "outputs": [],
   "source": []
  },
  {
   "cell_type": "code",
   "execution_count": 2,
   "metadata": {},
   "outputs": [],
   "source": [
    "import multion\n"
   ]
  },
  {
   "cell_type": "code",
   "execution_count": 3,
   "metadata": {},
   "outputs": [
    {
     "name": "stdout",
     "output_type": "stream",
     "text": [
      "Already logged in.\n"
     ]
    }
   ],
   "source": [
    "multion.login()"
   ]
  },
  {
   "cell_type": "code",
   "execution_count": 4,
   "metadata": {},
   "outputs": [],
   "source": [
    "multion.refresh_token()"
   ]
  },
  {
   "cell_type": "code",
   "execution_count": 5,
   "metadata": {},
   "outputs": [],
   "source": [
    "multion.set_api_url(\"http://127.0.0.1:8080\")"
   ]
  },
  {
   "cell_type": "code",
   "execution_count": 6,
   "metadata": {},
   "outputs": [
    {
     "data": {
      "text/plain": [
       "True"
      ]
     },
     "execution_count": 6,
     "metadata": {},
     "output_type": "execute_result"
    }
   ],
   "source": [
    "response = multion.set_remote(True)\n",
    "response"
   ]
  },
  {
   "cell_type": "code",
   "execution_count": 7,
   "metadata": {},
   "outputs": [
    {
     "data": {
      "text/plain": [
       "True"
      ]
     },
     "execution_count": 7,
     "metadata": {},
     "output_type": "execute_result"
    }
   ],
   "source": [
    "multion.get_remote()"
   ]
  },
  {
   "cell_type": "code",
   "execution_count": 8,
   "metadata": {},
   "outputs": [
    {
     "name": "stdout",
     "output_type": "stream",
     "text": [
      "running new session\n",
      "{'text': 'ANSWER: The weather today in San Francisco is sunny with a temperature of 70°F. There is 0% precipitation, 71% humidity, and the wind is blowing at 15 mph.\\nSTATUS: DONE', 'state': 'complete', 'messageId': '', 'conversationId': '', 'domain': 'https://www.google.com/search?q=weather+today+in+sf&sca_esv=568646023&source=hp&ei=I1oTZfStEqrPxc8P0'}\n"
     ]
    }
   ],
   "source": [
    "response = multion.new_session({\"input\": \"what is the weather today in sf\",\"url\": \"https://www.google.com\"})\n",
    "print(response['data'])\n",
    "sessionID = response['session_id']"
   ]
  },
  {
   "cell_type": "code",
   "execution_count": 9,
   "metadata": {},
   "outputs": [],
   "source": [
    "sessionID = response['session_id']"
   ]
  },
  {
   "cell_type": "code",
   "execution_count": 10,
   "metadata": {},
   "outputs": [
    {
     "name": "stdout",
     "output_type": "stream",
     "text": [
      "session updated\n"
     ]
    }
   ],
   "source": [
    "response = multion.update_session(sessionID, {\"input\": \"what is the weather today in menlo park\",\"url\": \"https://www.google.com\"})"
   ]
  },
  {
   "cell_type": "code",
   "execution_count": 11,
   "metadata": {},
   "outputs": [
    {
     "data": {
      "text/html": [
       "<video src=\"video.webm\" controls  >\n",
       "      Your browser does not support the <code>video</code> element.\n",
       "    </video>"
      ],
      "text/plain": [
       "<IPython.core.display.Video object>"
      ]
     },
     "execution_count": 11,
     "metadata": {},
     "output_type": "execute_result"
    }
   ],
   "source": [
    "multion.get_video(sessionID)"
   ]
  },
  {
   "cell_type": "code",
   "execution_count": 12,
   "metadata": {},
   "outputs": [
    {
     "data": {
      "text/plain": [
       "{'status': 'Session closed',\n",
       " 'session_id': 'c3c007ce-438e-4547-9140-2a8479a470d5'}"
      ]
     },
     "execution_count": 12,
     "metadata": {},
     "output_type": "execute_result"
    }
   ],
   "source": [
    "multion.close_session(sessionID)"
   ]
  },
  {
   "cell_type": "code",
   "execution_count": null,
   "metadata": {},
   "outputs": [],
   "source": []
  },
  {
   "cell_type": "code",
   "execution_count": 13,
   "metadata": {},
   "outputs": [
    {
     "ename": "KeyError",
     "evalue": "'screenshot'",
     "output_type": "error",
     "traceback": [
      "\u001b[0;31m---------------------------------------------------------------------------\u001b[0m",
      "\u001b[0;31mKeyError\u001b[0m                                  Traceback (most recent call last)",
      "Cell \u001b[0;32mIn[13], line 1\u001b[0m\n\u001b[0;32m----> 1\u001b[0m multion\u001b[39m.\u001b[39;49mget_screenshot(response, height\u001b[39m=\u001b[39;49m\u001b[39m800\u001b[39;49m)\n",
      "File \u001b[0;32m~/Documents/MultiON/api/sdks/multion-py/multion.py:380\u001b[0m, in \u001b[0;36mget_screenshot\u001b[0;34m(response, height, width)\u001b[0m\n\u001b[1;32m    379\u001b[0m \u001b[39mdef\u001b[39;00m \u001b[39mget_screenshot\u001b[39m(response, height\u001b[39m=\u001b[39m\u001b[39mNone\u001b[39;00m, width\u001b[39m=\u001b[39m\u001b[39mNone\u001b[39;00m):\n\u001b[0;32m--> 380\u001b[0m     \u001b[39mreturn\u001b[39;00m _multion_instance\u001b[39m.\u001b[39;49mget_screenshot(response, height, width)\n",
      "File \u001b[0;32m~/Documents/MultiON/api/sdks/multion-py/multion.py:264\u001b[0m, in \u001b[0;36m_Multion.get_screenshot\u001b[0;34m(self, response, height, width)\u001b[0m\n\u001b[1;32m    263\u001b[0m \u001b[39mdef\u001b[39;00m \u001b[39mget_screenshot\u001b[39m(\u001b[39mself\u001b[39m, response, height\u001b[39m=\u001b[39m\u001b[39mNone\u001b[39;00m, width\u001b[39m=\u001b[39m\u001b[39mNone\u001b[39;00m):\n\u001b[0;32m--> 264\u001b[0m     screenshot \u001b[39m=\u001b[39m response[\u001b[39m\"\u001b[39;49m\u001b[39mscreenshot\u001b[39;49m\u001b[39m\"\u001b[39;49m]\n\u001b[1;32m    266\u001b[0m     \u001b[39m# Remove the \"data:image/png;base64,\" part from the string\u001b[39;00m\n\u001b[1;32m    267\u001b[0m     base64_img_bytes \u001b[39m=\u001b[39m screenshot\u001b[39m.\u001b[39mreplace(\u001b[39m\"\u001b[39m\u001b[39mdata:image/png;base64,\u001b[39m\u001b[39m\"\u001b[39m, \u001b[39m\"\u001b[39m\u001b[39m\"\u001b[39m)\n",
      "\u001b[0;31mKeyError\u001b[0m: 'screenshot'"
     ]
    }
   ],
   "source": [
    "multion.get_screenshot(response, height=800)"
   ]
  },
  {
   "cell_type": "code",
   "execution_count": null,
   "metadata": {},
   "outputs": [
    {
     "data": {
      "text/plain": [
       "{'data': 'Session terminated'}"
      ]
     },
     "execution_count": 17,
     "metadata": {},
     "output_type": "execute_result"
    }
   ],
   "source": []
  }
 ],
 "metadata": {
  "kernelspec": {
   "display_name": "Python 3",
   "language": "python",
   "name": "python3"
  },
  "language_info": {
   "codemirror_mode": {
    "name": "ipython",
    "version": 3
   },
   "file_extension": ".py",
   "mimetype": "text/x-python",
   "name": "python",
   "nbconvert_exporter": "python",
   "pygments_lexer": "ipython3",
   "version": "3.10.9"
  },
  "orig_nbformat": 4
 },
 "nbformat": 4,
 "nbformat_minor": 2
}
