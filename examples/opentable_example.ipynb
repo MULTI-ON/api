{
 "cells": [
  {
   "cell_type": "markdown",
   "metadata": {},
   "source": [
    "# MultiOn API Example\n",
    "\n",
    "Install the latest `multion` python package"
   ]
  },
  {
   "cell_type": "code",
   "execution_count": null,
   "metadata": {},
   "outputs": [],
   "source": [
    "!pip install --upgrade multion -q"
   ]
  },
  {
   "cell_type": "code",
   "execution_count": null,
   "metadata": {},
   "outputs": [],
   "source": [
    "import multion"
   ]
  },
  {
   "cell_type": "code",
   "execution_count": null,
   "metadata": {},
   "outputs": [],
   "source": [
    "multion.__version__"
   ]
  },
  {
   "cell_type": "markdown",
   "metadata": {},
   "source": [
    "### Generate MultiOn API Key and login\n",
    "\n",
    "Visit [here](https://app.multion.ai/api-keys) to create your MultiOn API Key"
   ]
  },
  {
   "cell_type": "code",
   "execution_count": null,
   "metadata": {},
   "outputs": [],
   "source": [
    "multion.login(use_api=True, multion_api_key='<YOUR_MULTION_API_KEY>')"
   ]
  },
  {
   "cell_type": "markdown",
   "metadata": {},
   "source": [
    "### Set API Mode\n",
    "Switch the API to local mode to run the Agent locally with the MultiOn Browser Extension for testing\n",
    "\n",
    "(You can enable the remote mode to run on our hosted cloud for production use)"
   ]
  },
  {
   "cell_type": "code",
   "execution_count": null,
   "metadata": {},
   "outputs": [],
   "source": [
    "multion.set_remote(False)"
   ]
  },
  {
   "cell_type": "markdown",
   "metadata": {},
   "source": [
    "### Try the MultiOn Browse API\n",
    "\n",
    "Give an input language command, starting url and max steps for the agent to take"
   ]
  },
  {
   "cell_type": "code",
   "execution_count": null,
   "metadata": {},
   "outputs": [],
   "source": [
    "restaurantName = \"Teleferic\"\n",
    "city = \"Palo Alto\"\n",
    "provider = \"OpenTable\"\n",
    "guests = 4\n",
    "date = \"Feb 27\"\n",
    "time = \"7:00 pm\"\n",
    "\n",
    "name = \"\"\n",
    "phone = \"\"\n",
    "email = \"\"\n",
    "userContext = f\"\\n User Context: ['name': {name}, 'phone': {phone}, 'email': {email}].\"\n",
    "\n",
    "# Set to True to use custom user information\n",
    "useUserContext = False\n",
    "\n",
    "agentBookingMessage = (\n",
    "            f\"Book a reservation for the restaurant named {restaurantName}\"\n",
    "            f\"located in {city} on the reservation provider {provider} for \"\n",
    "            f\"{guests} guests on the date {date} at the time\"\n",
    "            f\" {time}. \"\n",
    "            f\"{userContext if useUserContext else \"\"}\"\n",
    "        )"
   ]
  },
  {
   "cell_type": "code",
   "execution_count": null,
   "metadata": {},
   "outputs": [],
   "source": [
    "multion.browse(\n",
    "    {\n",
    "        \"cmd\": f\"{agentBookingMessage}\",\n",
    "        \"url\": \"https://www.google.com\",\n",
    "        \"maxSteps\": 20,\n",
    "        \"includeScreenshot\": True\n",
    "    }\n",
    ")"
   ]
  },
  {
   "cell_type": "markdown",
   "metadata": {},
   "source": [
    "### OPTIONAL: Try the MultiOn Low-level APIs for granular control\n",
    "\n",
    "`create_session`: Create a new MultiOn Agent with a given starting url"
   ]
  },
  {
   "cell_type": "code",
   "execution_count": null,
   "metadata": {},
   "outputs": [],
   "source": [
    "input = {\"input\": f\"{agentBookingMessage}\", \"url\": \"https://google.com\", \"includeScreenshot\": True}"
   ]
  },
  {
   "cell_type": "code",
   "execution_count": null,
   "metadata": {},
   "outputs": [],
   "source": [
    "response = multion.create_session(input)\n",
    "print(response['message'])\n",
    "session_id = response['session_id']\n",
    "status = response['status']"
   ]
  },
  {
   "cell_type": "markdown",
   "metadata": {},
   "source": [
    "`step_session`: Steps the MultiOn Agent once using the specified input command and url \n",
    "\n",
    "Agent outputs a status `CONTINUE` if command has not been fulfilled yet, else `DONE`"
   ]
  },
  {
   "cell_type": "code",
   "execution_count": null,
   "metadata": {},
   "outputs": [],
   "source": [
    "max_steps = 20\n",
    "count = 0\n",
    "while status == \"CONTINUE\" and count < max_steps:\n",
    "    response = multion.step_session(sessionId=session_id, data=input)\n",
    "    session_id = response['session_id']\n",
    "    status = response['status']\n",
    "    count += 1\n",
    "    print(response[\"message\"])"
   ]
  },
  {
   "cell_type": "code",
   "execution_count": null,
   "metadata": {},
   "outputs": [],
   "source": [
    "multion.get_screenshot(response, height=800)"
   ]
  },
  {
   "cell_type": "markdown",
   "metadata": {},
   "source": [
    "`close_session`: Terminate the agent and close the session"
   ]
  },
  {
   "cell_type": "code",
   "execution_count": null,
   "metadata": {},
   "outputs": [],
   "source": [
    "multion.close_session(session_id)"
   ]
  }
 ],
 "metadata": {
  "kernelspec": {
   "display_name": "Python 3 (ipykernel)",
   "language": "python",
   "name": "python3"
  },
  "language_info": {
   "codemirror_mode": {
    "name": "ipython",
    "version": 3
   },
   "file_extension": ".py",
   "mimetype": "text/x-python",
   "name": "python",
   "nbconvert_exporter": "python",
   "pygments_lexer": "ipython3",
   "version": "3.10.9"
  }
 },
 "nbformat": 4,
 "nbformat_minor": 4
}
